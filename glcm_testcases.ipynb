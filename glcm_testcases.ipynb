{
 "cells": [
  {
   "cell_type": "markdown",
   "metadata": {},
   "source": [
    "<h1>Test cases for the graylevelcooccurence matrix function adaption for 3D</h1>\n",
    "The function is tested by using an adaption that only calculates the glcm's for 1 pixel to simplify and compare with cases where we already know what glcm we would expect"
   ]
  },
  {
   "cell_type": "code",
   "execution_count": 163,
   "metadata": {},
   "outputs": [],
   "source": [
    "import numpy as np\n",
    "from matplotlib import pyplot as plt\n",
    "import skimage\n",
    "from skimage.draw import ellipsoid\n",
    "import pandas as pd\n"
   ]
  },
  {
   "cell_type": "markdown",
   "metadata": {},
   "source": []
  },
  {
   "cell_type": "code",
   "execution_count": 164,
   "metadata": {},
   "outputs": [],
   "source": [
    "def graycomatrix_3d_test(img:np.ndarray, distances:float, angles_1, angles_2, start):\n",
    "\n",
    "    #same as graycomatrix_3d but with tested using only the center-pixel of the image\n",
    "    \n",
    "    def calc_offset(angle_pair, distance:float):\n",
    "        z:float = np.multiply(distance, np.sin(angle_pair[1]), dtype=float)\n",
    "        x2:float = np.multiply(np.multiply(distance, np.cos(angle_pair[1]),dtype=float), np.sin(angle_pair[0]),dtype=float)\n",
    "        y2:float = np.multiply(np.multiply(distance, np.cos(angle_pair[1]),dtype=float), np.cos(angle_pair[0]),dtype=float)\n",
    "        return(np.array([int(z),int(x2),int(y2)], dtype=int))\n",
    "    \n",
    "    img:int = (np.rint(img)).astype(int)\n",
    "    levels:int = img.max() + 1 \n",
    "    \n",
    "    grid1, grid2 = np.meshgrid(angles_1, angles_2)\n",
    "    angles:int = np.vstack([grid1.ravel(), grid2.ravel()]).T\n",
    "    \n",
    "    # Get the shape of the image\n",
    "    z_max:int  = img.shape[0]-1\n",
    "    x_max:int = img.shape[1]-1\n",
    "    y_max:int = img.shape[2]-1\n",
    "\n",
    "    z,x,y = start\n",
    "\n",
    "    glcm:int = np.zeros((levels, levels, len(distances), len(angles)), dtype=int)\n",
    "\n",
    "    for i,distance in enumerate(distances):\n",
    "        for j,angle_pair in enumerate(angles):\n",
    "            offset = calc_offset(angle_pair, distance)\n",
    "            curr = np.array([z,x,y], dtype=int)\n",
    "            neighbor = np.add(curr,offset, dtype=int)\n",
    "            if neighbor[1] >= 0 and neighbor[1] < x_max and neighbor[2] >= 0 and neighbor[2] < y_max and neighbor[0] >= 0 and neighbor[0] < z_max:\n",
    "                glcm[img[z,x,y], img[neighbor[0],neighbor[1],neighbor[2]], i, j] += 1\n",
    "            else:\n",
    "                continue\n",
    "    \n",
    "    return(glcm)\n",
    "\n",
    "\n",
    "def sum_glcm(glcm):\n",
    "    df_prev = pd.DataFrame(np.zeros((2,2)))\n",
    "    for angle in range(glcm.shape[3]):\n",
    "        df_curr=pd.DataFrame(glcm[:,:,0,angle])\n",
    "        df_prev = df_curr+df_prev\n",
    "    return(df_prev)"
   ]
  },
  {
   "cell_type": "code",
   "execution_count": 165,
   "metadata": {},
   "outputs": [],
   "source": [
    "#create sphere and pad so shifting sphere doesn't result in out of bounds error or too early reintroduction of sphere on the other side\n",
    "radius = 300\n",
    "offset = 15\n",
    "sphere = ellipsoid(radius, radius, radius)\n",
    "\n",
    "sphere = np.pad(sphere, ((offset*3, offset*3), (offset*3, offset*3), (offset*3, offset*3)), mode='constant')\n"
   ]
  },
  {
   "cell_type": "code",
   "execution_count": 166,
   "metadata": {},
   "outputs": [
    {
     "data": {
      "text/plain": [
       "<matplotlib.image.AxesImage at 0x140f94ad760>"
      ]
     },
     "execution_count": 166,
     "metadata": {},
     "output_type": "execute_result"
    },
    {
     "data": {
      "image/png": "[encoded data removed]",
      "text/plain": [
       "<Figure size 640x480 with 1 Axes>"
      ]
     },
     "metadata": {},
     "output_type": "display_data"
    }
   ],
   "source": [
    "plt.imshow(sphere[(sphere.shape[0]-1)//2-radius+1], cmap='gray')\n",
    "plt.imshow(sphere[(sphere.shape[0]-1)//2+radius-1], cmap='gray')\n",
    "\n",
    "#print(sphere[start[0]+radius,start[1],start[2]])\n"
   ]
  },
  {
   "cell_type": "code",
   "execution_count": 201,
   "metadata": {},
   "outputs": [
    {
     "name": "stdout",
     "output_type": "stream",
     "text": [
      "[346, 346, 346] (693, 693, 693)\n"
     ]
    },
    {
     "data": {
      "text/html": [
       "<div>\n",
       "<style scoped>\n",
       "    .dataframe tbody tr th:only-of-type {\n",
       "        vertical-align: middle;\n",
       "    }\n",
       "\n",
       "    .dataframe tbody tr th {\n",
       "        vertical-align: top;\n",
       "    }\n",
       "\n",
       "    .dataframe thead th {\n",
       "        text-align: right;\n",
       "    }\n",
       "</style>\n",
       "<table border=\"1\" class=\"dataframe\">\n",
       "  <thead>\n",
       "    <tr style=\"text-align: right;\">\n",
       "      <th></th>\n",
       "      <th>0</th>\n",
       "      <th>1</th>\n",
       "    </tr>\n",
       "  </thead>\n",
       "  <tbody>\n",
       "    <tr>\n",
       "      <th>0</th>\n",
       "      <td>0.0</td>\n",
       "      <td>0.0</td>\n",
       "    </tr>\n",
       "    <tr>\n",
       "      <th>1</th>\n",
       "      <td>0.0</td>\n",
       "      <td>144.0</td>\n",
       "    </tr>\n",
       "  </tbody>\n",
       "</table>\n",
       "</div>"
      ],
      "text/plain": [
       "     0      1\n",
       "0  0.0    0.0\n",
       "1  0.0  144.0"
      ]
     },
     "execution_count": 201,
     "metadata": {},
     "output_type": "execute_result"
    }
   ],
   "source": [
    "angles = np.arange(12)\n",
    "angles = angles * np.pi / 12\n",
    "grid1, grid2 = np.meshgrid(angles, angles)\n",
    "combinations:int = np.vstack([grid1.ravel(), grid2.ravel()]).T\n",
    "\n",
    "#distance 300 of 300x300x300 sphere, only 1-1 cooccurences\n",
    "\n",
    "start = [(sphere.shape[0]-1)//2, (sphere.shape[1]-1)//2, (sphere.shape[2]-1)//2]\n",
    "print(start, sphere.shape)\n",
    "\n",
    "glcm = graycomatrix_3d_test(sphere, distances=[radius], angles_1=angles, angles_2=angles, start=start)\n",
    "\n",
    "sum_glcm(glcm)"
   ]
  },
  {
   "cell_type": "code",
   "execution_count": 168,
   "metadata": {},
   "outputs": [
    {
     "data": {
      "text/html": [
       "<div>\n",
       "<style scoped>\n",
       "    .dataframe tbody tr th:only-of-type {\n",
       "        vertical-align: middle;\n",
       "    }\n",
       "\n",
       "    .dataframe tbody tr th {\n",
       "        vertical-align: top;\n",
       "    }\n",
       "\n",
       "    .dataframe thead th {\n",
       "        text-align: right;\n",
       "    }\n",
       "</style>\n",
       "<table border=\"1\" class=\"dataframe\">\n",
       "  <thead>\n",
       "    <tr style=\"text-align: right;\">\n",
       "      <th></th>\n",
       "      <th>0</th>\n",
       "      <th>1</th>\n",
       "    </tr>\n",
       "  </thead>\n",
       "  <tbody>\n",
       "    <tr>\n",
       "      <th>0</th>\n",
       "      <td>0.0</td>\n",
       "      <td>0.0</td>\n",
       "    </tr>\n",
       "    <tr>\n",
       "      <th>1</th>\n",
       "      <td>1.0</td>\n",
       "      <td>143.0</td>\n",
       "    </tr>\n",
       "  </tbody>\n",
       "</table>\n",
       "</div>"
      ],
      "text/plain": [
       "     0      1\n",
       "0  0.0    0.0\n",
       "1  1.0  143.0"
      ]
     },
     "execution_count": 168,
     "metadata": {},
     "output_type": "execute_result"
    }
   ],
   "source": [
    "#distance 300 of 300x300x300 sphere, origin shifted by 1 pixel, not only 1-1 cooccurences\n",
    "\n",
    "start = [(sphere.shape[0])//2-1, (sphere.shape[1])//2-1, (sphere.shape[2])//2-1]\n",
    "\n",
    "glcm = graycomatrix_3d_test(sphere, distances=[radius], angles_1=angles, angles_2=angles, start=start)\n",
    "\n",
    "sum_glcm(glcm)\n"
   ]
  },
  {
   "cell_type": "code",
   "execution_count": 208,
   "metadata": {},
   "outputs": [
    {
     "data": {
      "text/plain": [
       "0.3055555555555556"
      ]
     },
     "execution_count": 208,
     "metadata": {},
     "output_type": "execute_result"
    }
   ],
   "source": [
    "#distance 300 of 300x300x300 sphere, origin shifted by radius -> ratio of 0-1 cooccurences to total cooccurences should be equal to the volume of the cone formed by the intersection\n",
    "start = [(sphere.shape[0])//2-radius, (sphere.shape[1])//2, (sphere.shape[2])//2]\n",
    "\n",
    "glcm = graycomatrix_3d_test(sphere, distances=[radius], angles_1=angles, angles_2=angles, start=start)\n",
    "\n",
    "glcm = sum_glcm(glcm)\n",
    "print(glcm)\n",
    "\n",
    "ratio_conevolume_volume = glcm[0][1]/(glcm.sum().sum())\n",
    "print(ratio_conevolume_volume)\n",
    "\n",
    "\n"
   ]
  },
  {
   "cell_type": "code",
   "execution_count": 204,
   "metadata": {},
   "outputs": [
    {
     "data": {
      "text/plain": [
       "0.2886822574529649"
      ]
     },
     "execution_count": 204,
     "metadata": {},
     "output_type": "execute_result"
    }
   ],
   "source": [
    "#volume of the cone formed by the intersection of the sphere and the halfsphere\n",
    "(np.pi * radius**2 * (radius/(np.sqrt(3) * 3))) / (sphere.sum() /2)"
   ]
  },
  {
   "cell_type": "code",
   "execution_count": 169,
   "metadata": {},
   "outputs": [
    {
     "data": {
      "text/html": [
       "<div>\n",
       "<style scoped>\n",
       "    .dataframe tbody tr th:only-of-type {\n",
       "        vertical-align: middle;\n",
       "    }\n",
       "\n",
       "    .dataframe tbody tr th {\n",
       "        vertical-align: top;\n",
       "    }\n",
       "\n",
       "    .dataframe thead th {\n",
       "        text-align: right;\n",
       "    }\n",
       "</style>\n",
       "<table border=\"1\" class=\"dataframe\">\n",
       "  <thead>\n",
       "    <tr style=\"text-align: right;\">\n",
       "      <th></th>\n",
       "      <th>0</th>\n",
       "      <th>1</th>\n",
       "    </tr>\n",
       "  </thead>\n",
       "  <tbody>\n",
       "    <tr>\n",
       "      <th>0</th>\n",
       "      <td>0.0</td>\n",
       "      <td>0.0</td>\n",
       "    </tr>\n",
       "    <tr>\n",
       "      <th>1</th>\n",
       "      <td>98.0</td>\n",
       "      <td>46.0</td>\n",
       "    </tr>\n",
       "  </tbody>\n",
       "</table>\n",
       "</div>"
      ],
      "text/plain": [
       "      0     1\n",
       "0   0.0   0.0\n",
       "1  98.0  46.0"
      ]
     },
     "execution_count": 169,
     "metadata": {},
     "output_type": "execute_result"
    }
   ],
   "source": [
    "#distance 301 of 300x300x300 sphere, origin not shifted, only 1-0 cooccurences in theory\n",
    "#some 1-1 cooccurences since calculation of offset(in glcm function) is not perfect and always rounds down (truncates to int)\n",
    "start = [(sphere.shape[0]-1)//2, (sphere.shape[1]-1)//2, (sphere.shape[2]-1)//2]\n",
    "\n",
    "glcm = graycomatrix_3d_test(sphere, distances=[radius+1], angles_1=angles, angles_2=angles, start=start)\n",
    "\n",
    "sum_glcm(glcm)\n"
   ]
  },
  {
   "cell_type": "code",
   "execution_count": 200,
   "metadata": {},
   "outputs": [
    {
     "data": {
      "text/html": [
       "<div>\n",
       "<style scoped>\n",
       "    .dataframe tbody tr th:only-of-type {\n",
       "        vertical-align: middle;\n",
       "    }\n",
       "\n",
       "    .dataframe tbody tr th {\n",
       "        vertical-align: top;\n",
       "    }\n",
       "\n",
       "    .dataframe thead th {\n",
       "        text-align: right;\n",
       "    }\n",
       "</style>\n",
       "<table border=\"1\" class=\"dataframe\">\n",
       "  <thead>\n",
       "    <tr style=\"text-align: right;\">\n",
       "      <th></th>\n",
       "      <th>0</th>\n",
       "      <th>1</th>\n",
       "    </tr>\n",
       "  </thead>\n",
       "  <tbody>\n",
       "    <tr>\n",
       "      <th>0</th>\n",
       "      <td>0.0</td>\n",
       "      <td>0.0</td>\n",
       "    </tr>\n",
       "    <tr>\n",
       "      <th>1</th>\n",
       "      <td>144.0</td>\n",
       "      <td>0.0</td>\n",
       "    </tr>\n",
       "  </tbody>\n",
       "</table>\n",
       "</div>"
      ],
      "text/plain": [
       "       0    1\n",
       "0    0.0  0.0\n",
       "1  144.0  0.0"
      ]
     },
     "execution_count": 200,
     "metadata": {},
     "output_type": "execute_result"
    }
   ],
   "source": [
    "#distance 302 of 300x300x300 sphere, origin not shifted, only 0-1 cooccurences in theory\n",
    "#rounding down doesn't result in faulty 1-1 cooccurences\n",
    "start = [(sphere.shape[0]-1)//2, (sphere.shape[1]-1)//2, (sphere.shape[2]-1)//2]\n",
    "\n",
    "glcm = graycomatrix_3d_test(sphere, distances=[radius+2], angles_1=angles, angles_2=angles, start=start)\n",
    "\n",
    "sum_glcm(glcm)\n",
    "\n"
   ]
  },
  {
   "cell_type": "markdown",
   "metadata": {},
   "source": [
    "Calculating the intersection of a shifted half sphere with a sphere / volume ratio of the half sphere should be equal as the ratio of 1-1 cooccurences / all cooccurences ....\n",
    "\n",
    "the ratio didn't show to be perfectly equal but with increasing resolution (adding more angle pair), the ratio of the glcm got closer to the expected ratio"
   ]
  },
  {
   "cell_type": "code",
   "execution_count": 190,
   "metadata": {},
   "outputs": [
    {
     "name": "stdout",
     "output_type": "stream",
     "text": [
      "0.9999493372752885\n"
     ]
    }
   ],
   "source": [
    "# Shifted sphere\n",
    "\n",
    "offset=15\n",
    "shifted_sphere = np.roll(sphere, offset, axis=0)\n",
    "half_sphere = sphere.copy()\n",
    "half_sphere[:(half_sphere.shape[0]-1)//2, :, :] = 0\n",
    "# Intersection\n",
    "intersection = (half_sphere & shifted_sphere).sum()\n",
    "volume = half_sphere.sum()\n",
    "\n",
    "int_ratio = intersection/volume\n",
    "\n",
    "print(int_ratio)\n"
   ]
  },
  {
   "cell_type": "code",
   "execution_count": 196,
   "metadata": {},
   "outputs": [
    {
     "data": {
      "text/plain": [
       "<matplotlib.image.AxesImage at 0x140f997ab80>"
      ]
     },
     "execution_count": 196,
     "metadata": {},
     "output_type": "execute_result"
    },
    {
     "data": {
      "image/png": "[encoded data removed]",
      "text/plain": [
       "<Figure size 640x480 with 1 Axes>"
      ]
     },
     "metadata": {},
     "output_type": "display_data"
    }
   ],
   "source": [
    "plt.imshow(half_sphere[:,:,300])\n",
    "#checking if sphere is halfed correctly"
   ]
  },
  {
   "cell_type": "code",
   "execution_count": 186,
   "metadata": {},
   "outputs": [
    {
     "data": {
      "text/plain": [
       "<matplotlib.image.AxesImage at 0x140f9934eb0>"
      ]
     },
     "execution_count": 186,
     "metadata": {},
     "output_type": "execute_result"
    },
    {
     "data": {
      "image/png": "[encoded data removed]",
      "text/plain": [
       "<Figure size 640x480 with 1 Axes>"
      ]
     },
     "metadata": {},
     "output_type": "display_data"
    }
   ],
   "source": [
    "plt.imshow(shifted_sphere[:,:,300])\n",
    "#checking if sphere is shefted correctly"
   ]
  },
  {
   "cell_type": "code",
   "execution_count": 193,
   "metadata": {},
   "outputs": [
    {
     "name": "stdout",
     "output_type": "stream",
     "text": [
      "     0      1\n",
      "0  0.0    0.0\n",
      "1  4.0  140.0\n",
      "---------------\n",
      "0.9722222222222222\n"
     ]
    }
   ],
   "source": [
    "#distance 30 of 30x30x30 sphere, origin shifted by 15 pixels, not only 1-1 cooccurences\n",
    "start = [((sphere.shape[0]-1)//2-offset), (sphere.shape[1]-1)//2, (sphere.shape[2]-1)//2]\n",
    "\n",
    "angles = np.arange(12)\n",
    "angles = angles * np.pi / 12\n",
    "grid1, grid2 = np.meshgrid(angles, angles)\n",
    "combinations:int = np.vstack([grid1.ravel(), grid2.ravel()]).T\n",
    "\n",
    "glcm = graycomatrix_3d_test(sphere, distances=[radius], angles_1=angles, angles_2=angles, start=start)\n",
    "\n",
    "glcm = sum_glcm(glcm)\n",
    "print(glcm)\n",
    "\n",
    "print('-'*15)\n",
    "\n",
    "int_ratio_glcm = glcm[1][1]/(glcm.sum().sum())\n",
    "print(int_ratio_glcm)"
   ]
  },
  {
   "cell_type": "code",
   "execution_count": 194,
   "metadata": {},
   "outputs": [
    {
     "name": "stdout",
     "output_type": "stream",
     "text": [
      "      0       1\n",
      "0   0.0     0.0\n",
      "1  20.0  4076.0\n",
      "---------------\n",
      "0.9951171875\n"
     ]
    }
   ],
   "source": [
    "#distance 30 of 30x30x30 sphere, origin shifted by 15 pixels, not only 1-1 cooccurences\n",
    "start = [((sphere.shape[0]-1)//2-offset), (sphere.shape[1]-1)//2, (sphere.shape[2]-1)//2]\n",
    "\n",
    "angles = np.arange(64)\n",
    "angles = angles * np.pi / 64\n",
    "grid1, grid2 = np.meshgrid(angles, angles)\n",
    "combinations:int = np.vstack([grid1.ravel(), grid2.ravel()]).T\n",
    "\n",
    "glcm = graycomatrix_3d_test(sphere, distances=[radius], angles_1=angles, angles_2=angles, start=start)\n",
    "\n",
    "glcm = sum_glcm(glcm)\n",
    "print(glcm)\n",
    "\n",
    "print('-'*15)\n",
    "\n",
    "int_ratio_glcm = glcm[1][1]/(glcm.sum().sum())\n",
    "print(int_ratio_glcm)"
   ]
  },
  {
   "cell_type": "code",
   "execution_count": 191,
   "metadata": {},
   "outputs": [
    {
     "name": "stdout",
     "output_type": "stream",
     "text": [
      "       0         1\n",
      "0    0.0       0.0\n",
      "1  360.0  261784.0\n",
      "---------------\n",
      "0.998626708984375\n"
     ]
    }
   ],
   "source": [
    "#distance 30 of 30x30x30 sphere, origin shifted by 15 pixels, not only 1-1 cooccurences\n",
    "start = [((sphere.shape[0]-1)//2-offset), (sphere.shape[1]-1)//2, (sphere.shape[2]-1)//2]\n",
    "\n",
    "angles = np.arange(512)\n",
    "angles = angles * np.pi / 512\n",
    "grid1, grid2 = np.meshgrid(angles, angles)\n",
    "combinations:int = np.vstack([grid1.ravel(), grid2.ravel()]).T\n",
    "\n",
    "glcm = graycomatrix_3d_test(sphere, distances=[radius], angles_1=angles, angles_2=angles, start=start)\n",
    "\n",
    "glcm = sum_glcm(glcm)\n",
    "print(glcm)\n",
    "\n",
    "print('-'*15)\n",
    "\n",
    "int_ratio_glcm = glcm[1][1]/(glcm.sum().sum())\n",
    "print(int_ratio_glcm)"
   ]
  },
  {
   "cell_type": "code",
   "execution_count": 195,
   "metadata": {},
   "outputs": [
    {
     "name": "stdout",
     "output_type": "stream",
     "text": [
      "        0          1\n",
      "0     0.0        0.0\n",
      "1  5676.0  4188628.0\n",
      "---------------\n",
      "0.9986467361450195\n"
     ]
    }
   ],
   "source": [
    "#distance 30 of 30x30x30 sphere, origin shifted by 15 pixels, not only 1-1 cooccurences\n",
    "start = [((sphere.shape[0]-1)//2-offset), (sphere.shape[1]-1)//2, (sphere.shape[2]-1)//2]\n",
    "\n",
    "angles = np.arange(512*4)\n",
    "angles = angles * np.pi / (512*4)\n",
    "grid1, grid2 = np.meshgrid(angles, angles)\n",
    "combinations:int = np.vstack([grid1.ravel(), grid2.ravel()]).T\n",
    "\n",
    "glcm = graycomatrix_3d_test(sphere, distances=[radius], angles_1=angles, angles_2=angles, start=start)\n",
    "\n",
    "glcm = sum_glcm(glcm)\n",
    "print(glcm)\n",
    "\n",
    "print('-'*15)\n",
    "\n",
    "int_ratio_glcm = glcm[1][1]/(glcm.sum().sum())\n",
    "print(int_ratio_glcm)"
   ]
  }
 ],
 "metadata": {
  "kernelspec": {
   "display_name": "ndd_3.8",
   "language": "python",
   "name": "python3"
  },
  "language_info": {
   "codemirror_mode": {
    "name": "ipython",
    "version": 3
   },
   "file_extension": ".py",
   "mimetype": "text/x-python",
   "name": "python",
   "nbconvert_exporter": "python",
   "pygments_lexer": "ipython3",
   "version": "3.8.18"
  }
 },
 "nbformat": 4,
 "nbformat_minor": 2
}
